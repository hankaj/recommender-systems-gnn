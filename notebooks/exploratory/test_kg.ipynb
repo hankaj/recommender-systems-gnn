{
 "cells": [
  {
   "cell_type": "code",
   "execution_count": 2,
   "metadata": {},
   "outputs": [],
   "source": [
    "import torch\n",
    "import tqdm"
   ]
  },
  {
   "cell_type": "code",
   "execution_count": 26,
   "metadata": {},
   "outputs": [
    {
     "name": "stdout",
     "output_type": "stream",
     "text": [
      "train tensor([1])\n",
      "tensor([0.3000, 0.4000, 0.5000, 0.6000])\n",
      "tensor([0.3000,   -inf, 0.5000, 0.6000])\n",
      "tensor([3, 2])\n",
      "tensor([0])\n",
      "num hits 0\n",
      "hit False precision 0.0 recall 0.0\n",
      "train tensor([3])\n",
      "tensor([0.3000, 0.4000, 0.5000, 0.6000])\n",
      "tensor([0.3000, 0.4000, 0.5000,   -inf])\n",
      "tensor([2, 1])\n",
      "tensor([1, 2])\n",
      "num hits 2\n",
      "hit True precision 1.0 recall 1.0\n",
      "train tensor([], dtype=torch.int64)\n",
      "tensor([0.3000, 0.4000, 0.5000, 0.6000])\n",
      "tensor([0.3000, 0.4000, 0.5000, 0.6000])\n",
      "tensor([3, 2])\n",
      "tensor([3])\n",
      "num hits 1\n",
      "hit True precision 0.5 recall 1.0\n"
     ]
    },
    {
     "data": {
      "text/plain": [
       "(tensor(0.1667), tensor(0.2222), tensor(0.6667))"
      ]
     },
     "execution_count": 26,
     "metadata": {},
     "output_type": "execute_result"
    }
   ],
   "source": [
    "head_index, tail_index = torch.tensor([0, 1, 1, 2]), torch.tensor([3, 4, 5, 6])\n",
    "rel_type = 1 # only one relation type to test- user item\n",
    "num_test_users = max(head_index) + 1\n",
    "train_edge_label_index = torch.tensor([[0, 1], [4, 6]])\n",
    "num_users = 3\n",
    "num_items = 4\n",
    "arange = range(num_test_users)\n",
    "k = 2\n",
    "# arange = tqdm(arange)\n",
    "\n",
    "precision = recall = total_hit = 0\n",
    "for h in arange:\n",
    "    scores = []\n",
    "    tail_indices = torch.arange(num_users, num_users + num_items)\n",
    "    for ts in tail_indices.split(2):\n",
    "        scores.append(ts/10)\n",
    "    scores = torch.cat(scores)\n",
    "    label_index = tail_index[head_index == h] - num_users\n",
    "    train_label_index = train_edge_label_index[1][train_edge_label_index[0] == h] - num_users\n",
    "    print(\"train\", train_label_index)\n",
    "    print(scores)\n",
    "    scores[train_label_index] = float('-inf')\n",
    "    print(scores)\n",
    "    topk_index = scores.topk(k, dim=-1).indices\n",
    "    print(topk_index)\n",
    "    print(label_index)\n",
    "    num_hits = torch.isin(label_index, topk_index).sum().item()\n",
    "    print(\"num hits\", num_hits)\n",
    "    total_hit += num_hits > 0\n",
    "    precision += num_hits / k\n",
    "    recall += num_hits / len(label_index)\n",
    "    print(\"hit\", num_hits > 0, \"precision\", num_hits / k, \"recall\", num_hits / len(label_index))\n",
    "\n",
    "precision /= num_test_users\n",
    "recall /= num_test_users\n",
    "\n",
    "precision / num_test_users, recall / num_test_users, total_hit / num_test_users"
   ]
  },
  {
   "cell_type": "code",
   "execution_count": 4,
   "metadata": {},
   "outputs": [
    {
     "data": {
      "text/plain": [
       "tensor([0, 1, 2])"
      ]
     },
     "execution_count": 4,
     "metadata": {},
     "output_type": "execute_result"
    }
   ],
   "source": [
    "torch.arange(num_test_users)"
   ]
  },
  {
   "cell_type": "code",
   "execution_count": null,
   "metadata": {},
   "outputs": [],
   "source": []
  },
  {
   "cell_type": "code",
   "execution_count": null,
   "metadata": {},
   "outputs": [],
   "source": []
  }
 ],
 "metadata": {
  "kernelspec": {
   "display_name": "base",
   "language": "python",
   "name": "python3"
  },
  "language_info": {
   "codemirror_mode": {
    "name": "ipython",
    "version": 3
   },
   "file_extension": ".py",
   "mimetype": "text/x-python",
   "name": "python",
   "nbconvert_exporter": "python",
   "pygments_lexer": "ipython3",
   "version": "3.9.12"
  }
 },
 "nbformat": 4,
 "nbformat_minor": 2
}
